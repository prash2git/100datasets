{
 "cells": [
  {
   "cell_type": "markdown",
   "metadata": {},
   "source": [
    "# Importing standard libraries"
   ]
  },
  {
   "cell_type": "code",
   "execution_count": 1,
   "metadata": {},
   "outputs": [],
   "source": [
    "import pandas as pd \n",
    "import numpy as np\n",
    "import seaborn as sns\n",
    "import matplotlib as mpl\n",
    "from matplotlib import pyplot as plt"
   ]
  },
  {
   "cell_type": "code",
   "execution_count": 2,
   "metadata": {},
   "outputs": [],
   "source": [
    "# Reading the Data from csv file to pandas dataframe.\n",
    "data = pd.read_csv(\"C:/Users/SagarBhavsar/Desktop/Support Vectors/Datasets/Data/traffic-collision-data-from-2010-to-present.csv\")"
   ]
  },
  {
   "cell_type": "code",
   "execution_count": 3,
   "metadata": {},
   "outputs": [
    {
     "data": {
      "text/html": [
       "<div>\n",
       "<style scoped>\n",
       "    .dataframe tbody tr th:only-of-type {\n",
       "        vertical-align: middle;\n",
       "    }\n",
       "\n",
       "    .dataframe tbody tr th {\n",
       "        vertical-align: top;\n",
       "    }\n",
       "\n",
       "    .dataframe thead th {\n",
       "        text-align: right;\n",
       "    }\n",
       "</style>\n",
       "<table border=\"1\" class=\"dataframe\">\n",
       "  <thead>\n",
       "    <tr style=\"text-align: right;\">\n",
       "      <th></th>\n",
       "      <th>DR Number</th>\n",
       "      <th>Date Reported</th>\n",
       "      <th>Date Occurred</th>\n",
       "      <th>Time Occurred</th>\n",
       "      <th>Area ID</th>\n",
       "      <th>Area Name</th>\n",
       "      <th>Reporting District</th>\n",
       "      <th>Crime Code</th>\n",
       "      <th>Crime Code Description</th>\n",
       "      <th>MO Codes</th>\n",
       "      <th>...</th>\n",
       "      <th>Premise Description</th>\n",
       "      <th>Address</th>\n",
       "      <th>Cross Street</th>\n",
       "      <th>Location</th>\n",
       "      <th>Zip Codes</th>\n",
       "      <th>Census Tracts</th>\n",
       "      <th>Precinct Boundaries</th>\n",
       "      <th>LA Specific Plans</th>\n",
       "      <th>Council Districts</th>\n",
       "      <th>Neighborhood Councils (Certified)</th>\n",
       "    </tr>\n",
       "  </thead>\n",
       "  <tbody>\n",
       "    <tr>\n",
       "      <th>0</th>\n",
       "      <td>191216137</td>\n",
       "      <td>2019-06-15T00:00:00.000</td>\n",
       "      <td>2019-06-15T00:00:00.000</td>\n",
       "      <td>330</td>\n",
       "      <td>12</td>\n",
       "      <td>77th Street</td>\n",
       "      <td>1203</td>\n",
       "      <td>997</td>\n",
       "      <td>TRAFFIC COLLISION</td>\n",
       "      <td>4025 3028 3101 3006 3030</td>\n",
       "      <td>...</td>\n",
       "      <td>STREET</td>\n",
       "      <td>52ND                         ST</td>\n",
       "      <td>WESTERN                      AV</td>\n",
       "      <td>{'longitude': '-118.3089', 'latitude': '33.995...</td>\n",
       "      <td>24027.0</td>\n",
       "      <td>742.0</td>\n",
       "      <td>1049.0</td>\n",
       "      <td>7.0</td>\n",
       "      <td>14.0</td>\n",
       "      <td>35.0</td>\n",
       "    </tr>\n",
       "    <tr>\n",
       "      <th>1</th>\n",
       "      <td>191011095</td>\n",
       "      <td>2019-06-15T00:00:00.000</td>\n",
       "      <td>2019-06-15T00:00:00.000</td>\n",
       "      <td>1425</td>\n",
       "      <td>10</td>\n",
       "      <td>West Valley</td>\n",
       "      <td>1017</td>\n",
       "      <td>997</td>\n",
       "      <td>TRAFFIC COLLISION</td>\n",
       "      <td>NaN</td>\n",
       "      <td>...</td>\n",
       "      <td>PARKING LOT</td>\n",
       "      <td>17200    SATICOY                      ST</td>\n",
       "      <td>NaN</td>\n",
       "      <td>{'longitude': '-118.5077', 'latitude': '34.208...</td>\n",
       "      <td>19734.0</td>\n",
       "      <td>259.0</td>\n",
       "      <td>315.0</td>\n",
       "      <td>NaN</td>\n",
       "      <td>3.0</td>\n",
       "      <td>61.0</td>\n",
       "    </tr>\n",
       "    <tr>\n",
       "      <th>2</th>\n",
       "      <td>190411077</td>\n",
       "      <td>2019-06-15T00:00:00.000</td>\n",
       "      <td>2019-06-15T00:00:00.000</td>\n",
       "      <td>1200</td>\n",
       "      <td>4</td>\n",
       "      <td>Hollenbeck</td>\n",
       "      <td>469</td>\n",
       "      <td>997</td>\n",
       "      <td>TRAFFIC COLLISION</td>\n",
       "      <td>4024 3036 3004 3026 3034 3029 3101</td>\n",
       "      <td>...</td>\n",
       "      <td>STREET</td>\n",
       "      <td>4TH                          ST</td>\n",
       "      <td>INDIANA                      ST</td>\n",
       "      <td>{'longitude': '-118.1924', 'latitude': '34.032...</td>\n",
       "      <td>24028.0</td>\n",
       "      <td>516.0</td>\n",
       "      <td>956.0</td>\n",
       "      <td>NaN</td>\n",
       "      <td>9.0</td>\n",
       "      <td>38.0</td>\n",
       "    </tr>\n",
       "    <tr>\n",
       "      <th>3</th>\n",
       "      <td>190511313</td>\n",
       "      <td>2019-06-15T00:00:00.000</td>\n",
       "      <td>2019-06-15T00:00:00.000</td>\n",
       "      <td>850</td>\n",
       "      <td>5</td>\n",
       "      <td>Harbor</td>\n",
       "      <td>504</td>\n",
       "      <td>997</td>\n",
       "      <td>TRAFFIC COLLISION</td>\n",
       "      <td>NaN</td>\n",
       "      <td>...</td>\n",
       "      <td>STREET</td>\n",
       "      <td>1600 W  207TH                        ST</td>\n",
       "      <td>NaN</td>\n",
       "      <td>{'longitude': '-118.3066', 'latitude': '33.842...</td>\n",
       "      <td>25715.0</td>\n",
       "      <td>944.0</td>\n",
       "      <td>825.0</td>\n",
       "      <td>NaN</td>\n",
       "      <td>15.0</td>\n",
       "      <td>55.0</td>\n",
       "    </tr>\n",
       "    <tr>\n",
       "      <th>4</th>\n",
       "      <td>191814225</td>\n",
       "      <td>2019-06-15T00:00:00.000</td>\n",
       "      <td>2019-06-15T00:00:00.000</td>\n",
       "      <td>435</td>\n",
       "      <td>18</td>\n",
       "      <td>Southeast</td>\n",
       "      <td>1846</td>\n",
       "      <td>997</td>\n",
       "      <td>TRAFFIC COLLISION</td>\n",
       "      <td>4025 3028 3101 3006 3030</td>\n",
       "      <td>...</td>\n",
       "      <td>STREET</td>\n",
       "      <td>EVERS                        AV</td>\n",
       "      <td>111TH                        ST</td>\n",
       "      <td>{'longitude': '-118.2473', 'latitude': '33.934...</td>\n",
       "      <td>24354.0</td>\n",
       "      <td>821.0</td>\n",
       "      <td>1186.0</td>\n",
       "      <td>7.0</td>\n",
       "      <td>15.0</td>\n",
       "      <td>40.0</td>\n",
       "    </tr>\n",
       "  </tbody>\n",
       "</table>\n",
       "<p>5 rows × 24 columns</p>\n",
       "</div>"
      ],
      "text/plain": [
       "   DR Number            Date Reported            Date Occurred  Time Occurred  \\\n",
       "0  191216137  2019-06-15T00:00:00.000  2019-06-15T00:00:00.000            330   \n",
       "1  191011095  2019-06-15T00:00:00.000  2019-06-15T00:00:00.000           1425   \n",
       "2  190411077  2019-06-15T00:00:00.000  2019-06-15T00:00:00.000           1200   \n",
       "3  190511313  2019-06-15T00:00:00.000  2019-06-15T00:00:00.000            850   \n",
       "4  191814225  2019-06-15T00:00:00.000  2019-06-15T00:00:00.000            435   \n",
       "\n",
       "   Area ID    Area Name  Reporting District  Crime Code  \\\n",
       "0       12  77th Street                1203         997   \n",
       "1       10  West Valley                1017         997   \n",
       "2        4   Hollenbeck                 469         997   \n",
       "3        5       Harbor                 504         997   \n",
       "4       18    Southeast                1846         997   \n",
       "\n",
       "  Crime Code Description                            MO Codes  \\\n",
       "0      TRAFFIC COLLISION            4025 3028 3101 3006 3030   \n",
       "1      TRAFFIC COLLISION                                 NaN   \n",
       "2      TRAFFIC COLLISION  4024 3036 3004 3026 3034 3029 3101   \n",
       "3      TRAFFIC COLLISION                                 NaN   \n",
       "4      TRAFFIC COLLISION            4025 3028 3101 3006 3030   \n",
       "\n",
       "                 ...                  Premise Description  \\\n",
       "0                ...                               STREET   \n",
       "1                ...                          PARKING LOT   \n",
       "2                ...                               STREET   \n",
       "3                ...                               STREET   \n",
       "4                ...                               STREET   \n",
       "\n",
       "                                    Address                     Cross Street  \\\n",
       "0           52ND                         ST  WESTERN                      AV   \n",
       "1  17200    SATICOY                      ST                              NaN   \n",
       "2           4TH                          ST  INDIANA                      ST   \n",
       "3   1600 W  207TH                        ST                              NaN   \n",
       "4           EVERS                        AV  111TH                        ST   \n",
       "\n",
       "                                            Location Zip Codes Census Tracts  \\\n",
       "0  {'longitude': '-118.3089', 'latitude': '33.995...   24027.0         742.0   \n",
       "1  {'longitude': '-118.5077', 'latitude': '34.208...   19734.0         259.0   \n",
       "2  {'longitude': '-118.1924', 'latitude': '34.032...   24028.0         516.0   \n",
       "3  {'longitude': '-118.3066', 'latitude': '33.842...   25715.0         944.0   \n",
       "4  {'longitude': '-118.2473', 'latitude': '33.934...   24354.0         821.0   \n",
       "\n",
       "  Precinct Boundaries LA Specific Plans  Council Districts  \\\n",
       "0              1049.0               7.0               14.0   \n",
       "1               315.0               NaN                3.0   \n",
       "2               956.0               NaN                9.0   \n",
       "3               825.0               NaN               15.0   \n",
       "4              1186.0               7.0               15.0   \n",
       "\n",
       "   Neighborhood Councils (Certified)  \n",
       "0                               35.0  \n",
       "1                               61.0  \n",
       "2                               38.0  \n",
       "3                               55.0  \n",
       "4                               40.0  \n",
       "\n",
       "[5 rows x 24 columns]"
      ]
     },
     "execution_count": 3,
     "metadata": {},
     "output_type": "execute_result"
    }
   ],
   "source": [
    "# Checking that the data is loaded correctly\n",
    "data.head(5)"
   ]
  },
  {
   "cell_type": "markdown",
   "metadata": {},
   "source": [
    "# 1. Understanding the Data"
   ]
  },
  {
   "cell_type": "markdown",
   "metadata": {},
   "source": [
    "The data has 476337 rows and 24 columns. The rows represent the traffic collision and the columns represent the attributes of the collision."
   ]
  },
  {
   "cell_type": "code",
   "execution_count": 4,
   "metadata": {},
   "outputs": [
    {
     "data": {
      "text/plain": [
       "(476337, 24)"
      ]
     },
     "execution_count": 4,
     "metadata": {},
     "output_type": "execute_result"
    }
   ],
   "source": [
    "data.shape"
   ]
  },
  {
   "cell_type": "markdown",
   "metadata": {},
   "source": [
    "Analyzing the columns about the kind of data they represent. We get the following information:\n",
    "   1. 5 columns are of type integer\n",
    "   2. 11 columns are of type string(object datatype)\n",
    "   3. 8 columns are of type float(decimal values)\n",
    "\n",
    "Also, not all cloumns have 476337 values which indicate some values are missing.The columns with missing values are:\n",
    "   1. MO Codes\n",
    "   2. Victim Age                           \n",
    "   3. Victim Sex                           \n",
    "   4. Victim Descent                     \n",
    "   5. Premise Code                         \n",
    "   6. Premise Description\n",
    "   7. Cross Street\n",
    "   8. Zip Codes                          \n",
    "   9. Census Tracts                       \n",
    "   10. Precinct Boundaries                  \n",
    "   11. LA Specific Plans                    \n",
    "   12. Council Districts                    \n",
    "   13. Neighborhood Councils (Certified)  \n",
    "    "
   ]
  },
  {
   "cell_type": "code",
   "execution_count": 5,
   "metadata": {},
   "outputs": [
    {
     "name": "stdout",
     "output_type": "stream",
     "text": [
      "<class 'pandas.core.frame.DataFrame'>\n",
      "RangeIndex: 476337 entries, 0 to 476336\n",
      "Data columns (total 24 columns):\n",
      "DR Number                            476337 non-null int64\n",
      "Date Reported                        476337 non-null object\n",
      "Date Occurred                        476337 non-null object\n",
      "Time Occurred                        476337 non-null int64\n",
      "Area ID                              476337 non-null int64\n",
      "Area Name                            476337 non-null object\n",
      "Reporting District                   476337 non-null int64\n",
      "Crime Code                           476337 non-null int64\n",
      "Crime Code Description               476337 non-null object\n",
      "MO Codes                             391462 non-null object\n",
      "Victim Age                           398919 non-null float64\n",
      "Victim Sex                           469409 non-null object\n",
      "Victim Descent                       468704 non-null object\n",
      "Premise Code                         476312 non-null float64\n",
      "Premise Description                  476312 non-null object\n",
      "Address                              476337 non-null object\n",
      "Cross Street                         455199 non-null object\n",
      "Location                             476337 non-null object\n",
      "Zip Codes                            475942 non-null float64\n",
      "Census Tracts                        469876 non-null float64\n",
      "Precinct Boundaries                  473273 non-null float64\n",
      "LA Specific Plans                    175235 non-null float64\n",
      "Council Districts                    470691 non-null float64\n",
      "Neighborhood Councils (Certified)    452550 non-null float64\n",
      "dtypes: float64(8), int64(5), object(11)\n",
      "memory usage: 87.2+ MB\n"
     ]
    }
   ],
   "source": [
    "data.info()"
   ]
  },
  {
   "cell_type": "markdown",
   "metadata": {},
   "source": [
    "#  2. Missing Values"
   ]
  },
  {
   "cell_type": "markdown",
   "metadata": {},
   "source": [
    "The line plot plotted below gives the number os missing values for each column."
   ]
  },
  {
   "cell_type": "code",
   "execution_count": 6,
   "metadata": {},
   "outputs": [
    {
     "data": {
      "text/plain": [
       "DR Number                                 0\n",
       "Date Reported                             0\n",
       "Date Occurred                             0\n",
       "Time Occurred                             0\n",
       "Area ID                                   0\n",
       "Area Name                                 0\n",
       "Reporting District                        0\n",
       "Crime Code                                0\n",
       "Crime Code Description                    0\n",
       "MO Codes                              84875\n",
       "Victim Age                            77418\n",
       "Victim Sex                             6928\n",
       "Victim Descent                         7633\n",
       "Premise Code                             25\n",
       "Premise Description                      25\n",
       "Address                                   0\n",
       "Cross Street                          21138\n",
       "Location                                  0\n",
       "Zip Codes                               395\n",
       "Census Tracts                          6461\n",
       "Precinct Boundaries                    3064\n",
       "LA Specific Plans                    301102\n",
       "Council Districts                      5646\n",
       "Neighborhood Councils (Certified)     23787\n",
       "dtype: int64"
      ]
     },
     "execution_count": 6,
     "metadata": {},
     "output_type": "execute_result"
    },
    {
     "data": {
      "image/png": "[encoded data removed]",
      "text/plain": [
       "<Figure size 720x360 with 1 Axes>"
      ]
     },
     "metadata": {
      "needs_background": "light"
     },
     "output_type": "display_data"
    }
   ],
   "source": [
    "line_plot = pd.DataFrame(data.isnull().sum()).plot.line(figsize=(10, 5),grid=True)\n",
    "line_plot.xticks = (data.index)\n",
    "line_plot.set_title(\"Number of missing values in the given features\")\n",
    "data.isnull().sum()"
   ]
  },
  {
   "cell_type": "code",
   "execution_count": 7,
   "metadata": {},
   "outputs": [
    {
     "data": {
      "text/plain": [
       "Text(0.5, 1.0, 'Missing values heatmap')"
      ]
     },
     "execution_count": 7,
     "metadata": {},
     "output_type": "execute_result"
    },
    {
     "data": {
      "image/png": "[encoded data removed]",
      "text/plain": [
       "<Figure size 864x648 with 1 Axes>"
      ]
     },
     "metadata": {
      "needs_background": "light"
     },
     "output_type": "display_data"
    }
   ],
   "source": [
    "plt.figure(figsize=(12, 9))\n",
    "sns.heatmap(data.isnull(),cbar = False).set_title(\"Missing values heatmap\")\n"
   ]
  },
  {
   "cell_type": "markdown",
   "metadata": {},
   "source": [
    "    63.2% - LA Specific Plans\n",
    "    17.8% - MO Codes\n",
    "    16.2% - Victim Age\n",
    "\n",
    "Since 63.2% of data is not unavailable for the \"LA Specific Plans\" column.Hence, it can be dropped in our analysis and prediction. An alternate approach would have been to predict values for the missing values. However, it is not recommended as the number of values available for this column is significantly lower.\n",
    "\n",
    "Every other column has missing values of less than 20% so we can impute them by replacing them with median values\n",
    "\n",
    "Premise Code, Premise Description and Zip Codes have missing values of less than 1% so we can substitute it with the mode values of the respective column values.                 \n"
   ]
  },
  {
   "cell_type": "markdown",
   "metadata": {},
   "source": [
    "# 3. Unique Values - Categorical Values"
   ]
  },
  {
   "cell_type": "markdown",
   "metadata": {},
   "source": [
    "To understand the values taken by categorical variables, we count the number of unique values the vatiables can take.\n",
    "\n",
    "We have "
   ]
  },
  {
   "cell_type": "code",
   "execution_count": 8,
   "metadata": {
    "scrolled": true
   },
   "outputs": [
    {
     "data": {
      "text/plain": [
       "DR Number                            475540\n",
       "Date Reported                          3453\n",
       "Date Occurred                          3453\n",
       "Time Occurred                          1439\n",
       "Area ID                                  21\n",
       "Area Name                                21\n",
       "Reporting District                     1328\n",
       "Crime Code                                1\n",
       "Crime Code Description                    1\n",
       "MO Codes                              71826\n",
       "Victim Age                               90\n",
       "Victim Sex                                5\n",
       "Victim Descent                           20\n",
       "Premise Code                            108\n",
       "Premise Description                     108\n",
       "Address                               25207\n",
       "Cross Street                          19206\n",
       "Location                              40404\n",
       "Zip Codes                               197\n",
       "Census Tracts                          1227\n",
       "Precinct Boundaries                    1417\n",
       "LA Specific Plans                        35\n",
       "Council Districts                        15\n",
       "Neighborhood Councils (Certified)        95\n",
       "dtype: int64"
      ]
     },
     "execution_count": 8,
     "metadata": {},
     "output_type": "execute_result"
    }
   ],
   "source": [
    "data.nunique()"
   ]
  },
  {
   "cell_type": "code",
   "execution_count": 9,
   "metadata": {},
   "outputs": [
    {
     "data": {
      "text/plain": [
       "M    277993\n",
       "F    180510\n",
       "X     10758\n",
       "H       137\n",
       "N        11\n",
       "Name: Victim Sex, dtype: int64"
      ]
     },
     "execution_count": 9,
     "metadata": {},
     "output_type": "execute_result"
    }
   ],
   "source": [
    "data['Victim Sex'].value_counts()"
   ]
  },
  {
   "cell_type": "markdown",
   "metadata": {},
   "source": [
    "According to the data, Victim Sex takes 5 values. When analyzed the values taken by this column, we found that apart from the regular and logical M= Male, F= Female and X= Unknown, it had very few occurrences of H & N values. So from the above frequency of each "
   ]
  },
  {
   "cell_type": "code",
   "execution_count": 10,
   "metadata": {},
   "outputs": [
    {
     "data": {
      "text/html": [
       "<div>\n",
       "<style scoped>\n",
       "    .dataframe tbody tr th:only-of-type {\n",
       "        vertical-align: middle;\n",
       "    }\n",
       "\n",
       "    .dataframe tbody tr th {\n",
       "        vertical-align: top;\n",
       "    }\n",
       "\n",
       "    .dataframe thead th {\n",
       "        text-align: right;\n",
       "    }\n",
       "</style>\n",
       "<table border=\"1\" class=\"dataframe\">\n",
       "  <thead>\n",
       "    <tr style=\"text-align: right;\">\n",
       "      <th></th>\n",
       "      <th>count</th>\n",
       "      <th>mean</th>\n",
       "      <th>std</th>\n",
       "      <th>min</th>\n",
       "      <th>25%</th>\n",
       "      <th>50%</th>\n",
       "      <th>75%</th>\n",
       "      <th>max</th>\n",
       "    </tr>\n",
       "  </thead>\n",
       "  <tbody>\n",
       "    <tr>\n",
       "      <th>DR Number</th>\n",
       "      <td>476337.0</td>\n",
       "      <td>1.462045e+08</td>\n",
       "      <td>2.738341e+07</td>\n",
       "      <td>100100007.0</td>\n",
       "      <td>121411728.0</td>\n",
       "      <td>150516535.0</td>\n",
       "      <td>170904555.0</td>\n",
       "      <td>192111485.0</td>\n",
       "    </tr>\n",
       "    <tr>\n",
       "      <th>Time Occurred</th>\n",
       "      <td>476337.0</td>\n",
       "      <td>1.354772e+03</td>\n",
       "      <td>5.970183e+02</td>\n",
       "      <td>1.0</td>\n",
       "      <td>930.0</td>\n",
       "      <td>1430.0</td>\n",
       "      <td>1820.0</td>\n",
       "      <td>2359.0</td>\n",
       "    </tr>\n",
       "    <tr>\n",
       "      <th>Area ID</th>\n",
       "      <td>476337.0</td>\n",
       "      <td>1.107033e+01</td>\n",
       "      <td>5.876893e+00</td>\n",
       "      <td>1.0</td>\n",
       "      <td>6.0</td>\n",
       "      <td>11.0</td>\n",
       "      <td>16.0</td>\n",
       "      <td>21.0</td>\n",
       "    </tr>\n",
       "    <tr>\n",
       "      <th>Reporting District</th>\n",
       "      <td>476337.0</td>\n",
       "      <td>1.153179e+03</td>\n",
       "      <td>5.889750e+02</td>\n",
       "      <td>100.0</td>\n",
       "      <td>666.0</td>\n",
       "      <td>1149.0</td>\n",
       "      <td>1651.0</td>\n",
       "      <td>2199.0</td>\n",
       "    </tr>\n",
       "    <tr>\n",
       "      <th>Crime Code</th>\n",
       "      <td>476337.0</td>\n",
       "      <td>9.970000e+02</td>\n",
       "      <td>0.000000e+00</td>\n",
       "      <td>997.0</td>\n",
       "      <td>997.0</td>\n",
       "      <td>997.0</td>\n",
       "      <td>997.0</td>\n",
       "      <td>997.0</td>\n",
       "    </tr>\n",
       "    <tr>\n",
       "      <th>Victim Age</th>\n",
       "      <td>398919.0</td>\n",
       "      <td>4.158115e+01</td>\n",
       "      <td>1.618386e+01</td>\n",
       "      <td>10.0</td>\n",
       "      <td>29.0</td>\n",
       "      <td>39.0</td>\n",
       "      <td>51.0</td>\n",
       "      <td>99.0</td>\n",
       "    </tr>\n",
       "    <tr>\n",
       "      <th>Premise Code</th>\n",
       "      <td>476312.0</td>\n",
       "      <td>1.024302e+02</td>\n",
       "      <td>2.328123e+01</td>\n",
       "      <td>101.0</td>\n",
       "      <td>101.0</td>\n",
       "      <td>101.0</td>\n",
       "      <td>101.0</td>\n",
       "      <td>937.0</td>\n",
       "    </tr>\n",
       "    <tr>\n",
       "      <th>Zip Codes</th>\n",
       "      <td>475942.0</td>\n",
       "      <td>2.017173e+04</td>\n",
       "      <td>6.027292e+03</td>\n",
       "      <td>2436.0</td>\n",
       "      <td>19339.0</td>\n",
       "      <td>23074.0</td>\n",
       "      <td>23668.0</td>\n",
       "      <td>27324.0</td>\n",
       "    </tr>\n",
       "    <tr>\n",
       "      <th>Census Tracts</th>\n",
       "      <td>469876.0</td>\n",
       "      <td>5.609431e+02</td>\n",
       "      <td>3.904650e+02</td>\n",
       "      <td>1.0</td>\n",
       "      <td>286.0</td>\n",
       "      <td>543.0</td>\n",
       "      <td>757.0</td>\n",
       "      <td>2343.0</td>\n",
       "    </tr>\n",
       "    <tr>\n",
       "      <th>Precinct Boundaries</th>\n",
       "      <td>473273.0</td>\n",
       "      <td>8.714599e+02</td>\n",
       "      <td>3.757665e+02</td>\n",
       "      <td>14.0</td>\n",
       "      <td>539.0</td>\n",
       "      <td>897.0</td>\n",
       "      <td>1183.0</td>\n",
       "      <td>1560.0</td>\n",
       "    </tr>\n",
       "    <tr>\n",
       "      <th>LA Specific Plans</th>\n",
       "      <td>175235.0</td>\n",
       "      <td>1.011047e+01</td>\n",
       "      <td>8.299631e+00</td>\n",
       "      <td>1.0</td>\n",
       "      <td>7.0</td>\n",
       "      <td>7.0</td>\n",
       "      <td>10.0</td>\n",
       "      <td>54.0</td>\n",
       "    </tr>\n",
       "    <tr>\n",
       "      <th>Council Districts</th>\n",
       "      <td>470691.0</td>\n",
       "      <td>8.315698e+00</td>\n",
       "      <td>4.148581e+00</td>\n",
       "      <td>1.0</td>\n",
       "      <td>5.0</td>\n",
       "      <td>8.0</td>\n",
       "      <td>12.0</td>\n",
       "      <td>15.0</td>\n",
       "    </tr>\n",
       "    <tr>\n",
       "      <th>Neighborhood Councils (Certified)</th>\n",
       "      <td>452550.0</td>\n",
       "      <td>4.647843e+01</td>\n",
       "      <td>2.728172e+01</td>\n",
       "      <td>1.0</td>\n",
       "      <td>21.0</td>\n",
       "      <td>45.0</td>\n",
       "      <td>72.0</td>\n",
       "      <td>95.0</td>\n",
       "    </tr>\n",
       "  </tbody>\n",
       "</table>\n",
       "</div>"
      ],
      "text/plain": [
       "                                      count          mean           std  \\\n",
       "DR Number                          476337.0  1.462045e+08  2.738341e+07   \n",
       "Time Occurred                      476337.0  1.354772e+03  5.970183e+02   \n",
       "Area ID                            476337.0  1.107033e+01  5.876893e+00   \n",
       "Reporting District                 476337.0  1.153179e+03  5.889750e+02   \n",
       "Crime Code                         476337.0  9.970000e+02  0.000000e+00   \n",
       "Victim Age                         398919.0  4.158115e+01  1.618386e+01   \n",
       "Premise Code                       476312.0  1.024302e+02  2.328123e+01   \n",
       "Zip Codes                          475942.0  2.017173e+04  6.027292e+03   \n",
       "Census Tracts                      469876.0  5.609431e+02  3.904650e+02   \n",
       "Precinct Boundaries                473273.0  8.714599e+02  3.757665e+02   \n",
       "LA Specific Plans                  175235.0  1.011047e+01  8.299631e+00   \n",
       "Council Districts                  470691.0  8.315698e+00  4.148581e+00   \n",
       "Neighborhood Councils (Certified)  452550.0  4.647843e+01  2.728172e+01   \n",
       "\n",
       "                                           min          25%          50%  \\\n",
       "DR Number                          100100007.0  121411728.0  150516535.0   \n",
       "Time Occurred                              1.0        930.0       1430.0   \n",
       "Area ID                                    1.0          6.0         11.0   \n",
       "Reporting District                       100.0        666.0       1149.0   \n",
       "Crime Code                               997.0        997.0        997.0   \n",
       "Victim Age                                10.0         29.0         39.0   \n",
       "Premise Code                             101.0        101.0        101.0   \n",
       "Zip Codes                               2436.0      19339.0      23074.0   \n",
       "Census Tracts                              1.0        286.0        543.0   \n",
       "Precinct Boundaries                       14.0        539.0        897.0   \n",
       "LA Specific Plans                          1.0          7.0          7.0   \n",
       "Council Districts                          1.0          5.0          8.0   \n",
       "Neighborhood Councils (Certified)          1.0         21.0         45.0   \n",
       "\n",
       "                                           75%          max  \n",
       "DR Number                          170904555.0  192111485.0  \n",
       "Time Occurred                           1820.0       2359.0  \n",
       "Area ID                                   16.0         21.0  \n",
       "Reporting District                      1651.0       2199.0  \n",
       "Crime Code                               997.0        997.0  \n",
       "Victim Age                                51.0         99.0  \n",
       "Premise Code                             101.0        937.0  \n",
       "Zip Codes                              23668.0      27324.0  \n",
       "Census Tracts                            757.0       2343.0  \n",
       "Precinct Boundaries                     1183.0       1560.0  \n",
       "LA Specific Plans                         10.0         54.0  \n",
       "Council Districts                         12.0         15.0  \n",
       "Neighborhood Councils (Certified)         72.0         95.0  "
      ]
     },
     "execution_count": 10,
     "metadata": {},
     "output_type": "execute_result"
    }
   ],
   "source": [
    "data.describe().transpose()"
   ]
  },
  {
   "cell_type": "code",
   "execution_count": 21,
   "metadata": {},
   "outputs": [
    {
     "data": {
      "text/plain": [
       "Text(0.5, 1.0, 'Histogram of Area ID')"
      ]
     },
     "execution_count": 21,
     "metadata": {},
     "output_type": "execute_result"
    },
    {
     "data": {
      "image/png": "[encoded data removed]",
      "text/plain": [
       "<Figure size 432x288 with 1 Axes>"
      ]
     },
     "metadata": {
      "needs_background": "light"
     },
     "output_type": "display_data"
    }
   ],
   "source": [
    "sns.countplot(data[\"Area ID\"])\n",
    "plt.title(\"Histogram of Area ID\")"
   ]
  },
  {
   "cell_type": "code",
   "execution_count": 20,
   "metadata": {},
   "outputs": [
    {
     "data": {
      "text/plain": [
       "Text(0.5, 1.0, 'Histogram of Council Districts')"
      ]
     },
     "execution_count": 20,
     "metadata": {},
     "output_type": "execute_result"
    },
    {
     "data": {
      "image/png": "[encoded data removed]",
      "text/plain": [
       "<Figure size 432x288 with 1 Axes>"
      ]
     },
     "metadata": {
      "needs_background": "light"
     },
     "output_type": "display_data"
    }
   ],
   "source": [
    "sns.countplot(data[\"Council Districts\"])\n",
    "plt.title(\"Histogram of Council Districts\")"
   ]
  },
  {
   "cell_type": "code",
   "execution_count": 16,
   "metadata": {},
   "outputs": [
    {
     "data": {
      "text/plain": [
       "STREET                                                       454341\n",
       "PARKING LOT                                                   15427\n",
       "SIDEWALK                                                       2373\n",
       "ALLEY                                                           827\n",
       "DRIVEWAY                                                        808\n",
       "FREEWAY                                                         446\n",
       "SINGLE FAMILY DWELLING                                          313\n",
       "GAS STATION                                                     302\n",
       "TRANSPORTATION FACILITY (AIRPORT)                               154\n",
       "GARAGE/CARPORT                                                  135\n",
       "OTHER PREMISE                                                   129\n",
       "OTHER/OUTSIDE                                                   100\n",
       "VACANT LOT                                                       93\n",
       "PARK/PLAYGROUND                                                  90\n",
       "MULTI-UNIT DWELLING (APARTMENT, DUPLEX, ETC)                     79\n",
       "PARKING UNDERGROUND/BUILDING                                     72\n",
       "PEDESTRIAN OVERCROSSING                                          70\n",
       "POLICE FACILITY                                                  66\n",
       "OTHER BUSINESS                                                   64\n",
       "RESTAURANT/FAST FOOD                                             39\n",
       "YARD (RESIDENTIAL/BUSINESS)                                      28\n",
       "VEHICLE, PASSENGER/TRUCK                                         25\n",
       "HIGH SCHOOL                                                      18\n",
       "ELEMENTARY SCHOOL                                                16\n",
       "LIQUOR STORE                                                     16\n",
       "TRAIN DEPOT/TERMINAL, OTHER THAN MTA                             15\n",
       "DRIVE THRU*                                                      14\n",
       "CHURCH/CHAPEL (CHANGED 03-03 FROM CHURCH/TEMPLE)                 13\n",
       "JUNIOR HIGH SCHOOL                                               13\n",
       "OTHER STORE                                                      11\n",
       "                                                              ...  \n",
       "REDLINE SUBWAY PLATFORM                                           1\n",
       "BUS DEPOT/TERMINAL, OTHER THAN MTA                                1\n",
       "MASSAGE PARLOR                                                    1\n",
       "VALET                                                             1\n",
       "BOWLING ALLEY*                                                    1\n",
       "RECYCLING CENTER                                                  1\n",
       "AUTOMATED TELLER MACHINE (ATM)                                    1\n",
       "MEDICAL/DENTAL OFFICES                                            1\n",
       "MTA BUS                                                           1\n",
       "TERMINAL, OTHER THAN MTA                                          1\n",
       "PRIVATE SCHOOL/PRESCHOOL                                          1\n",
       "CEMETARY*                                                         1\n",
       "AIRCRAFT                                                          1\n",
       "HARDWARE/BUILDING SUPPLY                                          1\n",
       "PORCH, RESIDENTIAL                                                1\n",
       "POST OFFICE                                                       1\n",
       "METROLINK TRAIN                                                   1\n",
       "MAIL BOX                                                          1\n",
       "AUTO SALES LOT                                                    1\n",
       "OTHER RR TRAIN (UNION PAC, SANTE FE ETC                           1\n",
       "MTA - BLUE LINE - 103RD/WATTS TOWERS                              1\n",
       "STAIRWELL*                                                        1\n",
       "MEDICAL MARIJUANA FACILITIES/BUSINESSES                           1\n",
       "DELIVERY SERVICE (FED EX, UPS, COURIERS,COURIER SERVICE)*         1\n",
       "TV/RADIO/APPLIANCE                                                1\n",
       "TOW YARD*                                                         1\n",
       "PAWN SHOP                                                         1\n",
       "COLLEGE/JUNIOR COLLEGE/UNIVERSITY                                 1\n",
       "CLOTHING STORE                                                    1\n",
       "MANUFACTURING COMPANY                                             1\n",
       "Name: Premise Description, Length: 108, dtype: int64"
      ]
     },
     "execution_count": 16,
     "metadata": {},
     "output_type": "execute_result"
    }
   ],
   "source": [
    "data[\"Premise Description\"].value_counts()"
   ]
  },
  {
   "cell_type": "markdown",
   "metadata": {},
   "source": [
    "Descent Code: \n",
    "1. A - Other Asian \n",
    "2. B - Black         \n",
    "3. C - Chinese \n",
    "4. D - Cambodian \n",
    "5. F - Filipino \n",
    "6. G - Guamanian \n",
    "7. H - Hispanic/Latin/Mexican \n",
    "8. I - American Indian/Alaskan Native \n",
    "9. J - Japanese \n",
    "10. K - Korean \n",
    "11. L - Laotian \n",
    "12. O - Other \n",
    "13. P - Pacific Islander \n",
    "14. S - Samoan \n",
    "15. U - Hawaiian \n",
    "16. V - Vietnamese \n",
    "17. W - White \n",
    "18. X - Unknown \n",
    "19. Z - Asian Indian"
   ]
  },
  {
   "cell_type": "code",
   "execution_count": 15,
   "metadata": {},
   "outputs": [
    {
     "data": {
      "text/plain": [
       "H    175348\n",
       "W    113660\n",
       "O     70941\n",
       "B     62165\n",
       "X     21450\n",
       "A     17883\n",
       "K      3833\n",
       "F      1395\n",
       "C       687\n",
       "U       350\n",
       "J       271\n",
       "V       182\n",
       "P       181\n",
       "I       144\n",
       "Z       124\n",
       "G        39\n",
       "S        31\n",
       "D        14\n",
       "L         4\n",
       "-         2\n",
       "Name: Victim Descent, dtype: int64"
      ]
     },
     "execution_count": 15,
     "metadata": {},
     "output_type": "execute_result"
    }
   ],
   "source": [
    "data[\"Victim Descent\"].value_counts()"
   ]
  },
  {
   "cell_type": "code",
   "execution_count": null,
   "metadata": {},
   "outputs": [],
   "source": []
  },
  {
   "cell_type": "code",
   "execution_count": null,
   "metadata": {},
   "outputs": [],
   "source": []
  }
 ],
 "metadata": {
  "hide_input": false,
  "kernelspec": {
   "display_name": "Python 3",
   "language": "python",
   "name": "python3"
  },
  "language_info": {
   "codemirror_mode": {
    "name": "ipython",
    "version": 3
   },
   "file_extension": ".py",
   "mimetype": "text/x-python",
   "name": "python",
   "nbconvert_exporter": "python",
   "pygments_lexer": "ipython3",
   "version": "3.6.7"
  },
  "latex_envs": {
   "LaTeX_envs_menu_present": true,
   "autoclose": true,
   "autocomplete": true,
   "bibliofile": "biblio.bib",
   "cite_by": "apalike",
   "current_citInitial": 1,
   "eqLabelWithNumbers": true,
   "eqNumInitial": 1,
   "hotkeys": {
    "equation": "Ctrl-E",
    "itemize": "Ctrl-I"
   },
   "labels_anchors": false,
   "latex_user_defs": false,
   "report_style_numbering": true,
   "user_envs_cfg": true
  },
  "toc": {
   "base_numbering": 1,
   "nav_menu": {},
   "number_sections": true,
   "sideBar": true,
   "skip_h1_title": false,
   "title_cell": "Table of Contents",
   "title_sidebar": "Contents",
   "toc_cell": false,
   "toc_position": {},
   "toc_section_display": true,
   "toc_window_display": false
  },
  "varInspector": {
   "cols": {
    "lenName": 16,
    "lenType": 16,
    "lenVar": 40
   },
   "kernels_config": {
    "python": {
     "delete_cmd_postfix": "",
     "delete_cmd_prefix": "del ",
     "library": "var_list.py",
     "varRefreshCmd": "print(var_dic_list())"
    },
    "r": {
     "delete_cmd_postfix": ") ",
     "delete_cmd_prefix": "rm(",
     "library": "var_list.r",
     "varRefreshCmd": "cat(var_dic_list()) "
    }
   },
   "types_to_exclude": [
    "module",
    "function",
    "builtin_function_or_method",
    "instance",
    "_Feature"
   ],
   "window_display": false
  }
 },
 "nbformat": 4,
 "nbformat_minor": 2
}
